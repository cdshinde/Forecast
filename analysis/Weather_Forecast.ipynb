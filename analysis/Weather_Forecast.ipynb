{
 "cells": [
  {
   "cell_type": "markdown",
   "metadata": {},
   "source": [
    "This is a notebook that will analyze weather data downloaded from accuweather for Pune city for year of 2017, 2018.\n",
    "It is only the temperature data and we will work with that data."
   ]
  },
  {
   "cell_type": "code",
   "execution_count": 476,
   "metadata": {},
   "outputs": [],
   "source": [
    "%matplotlib inline\n",
    "import pandas as pd\n",
    "import matplotlib.pyplot as plt\n",
    "import seaborn as sns\n",
    "import numpy as np"
   ]
  },
  {
   "cell_type": "code",
   "execution_count": 477,
   "metadata": {},
   "outputs": [],
   "source": [
    "# Allows the display all dataframe rows and the width of each column in the notebook\n",
    "pd.options.display.max_columns = None\n",
    "pd.set_option('display.max_colwidth', -1)"
   ]
  },
  {
   "cell_type": "code",
   "execution_count": 478,
   "metadata": {},
   "outputs": [
    {
     "data": {
      "text/html": [
       "<div>\n",
       "<style scoped>\n",
       "    .dataframe tbody tr th:only-of-type {\n",
       "        vertical-align: middle;\n",
       "    }\n",
       "\n",
       "    .dataframe tbody tr th {\n",
       "        vertical-align: top;\n",
       "    }\n",
       "\n",
       "    .dataframe thead th {\n",
       "        text-align: right;\n",
       "    }\n",
       "</style>\n",
       "<table border=\"1\" class=\"dataframe\">\n",
       "  <thead>\n",
       "    <tr style=\"text-align: right;\">\n",
       "      <th></th>\n",
       "      <th>day</th>\n",
       "      <th>max</th>\n",
       "      <th>min</th>\n",
       "      <th>year</th>\n",
       "    </tr>\n",
       "  </thead>\n",
       "  <tbody>\n",
       "    <tr>\n",
       "      <th>0</th>\n",
       "      <td>Sun 1/1,Sun 1/8,Sun 1/15,Sun 1/22,Sun 1/29</td>\n",
       "      <td>30,30,29,31,31</td>\n",
       "      <td>11,10,14,13,12</td>\n",
       "      <td>2017</td>\n",
       "    </tr>\n",
       "    <tr>\n",
       "      <th>1</th>\n",
       "      <td>Mon 1/2,Mon 1/9,Mon 1/16,Mon 1/23,Mon 1/30</td>\n",
       "      <td>31,29,29,32,32</td>\n",
       "      <td>11,11,15,13,12</td>\n",
       "      <td>2017</td>\n",
       "    </tr>\n",
       "    <tr>\n",
       "      <th>2</th>\n",
       "      <td>Tue 1/3,Tue 1/10,Tue 1/17,Tue 1/24,Tue 1/31</td>\n",
       "      <td>28,30,30,30,33</td>\n",
       "      <td>9,9,15,13,12</td>\n",
       "      <td>2017</td>\n",
       "    </tr>\n",
       "    <tr>\n",
       "      <th>3</th>\n",
       "      <td>Wed 1/4,Wed 1/11,Wed 1/18,Wed 1/25,Wed 2/1</td>\n",
       "      <td>29,29,29,31,32</td>\n",
       "      <td>9,8,14,13,13</td>\n",
       "      <td>2017</td>\n",
       "    </tr>\n",
       "    <tr>\n",
       "      <th>4</th>\n",
       "      <td>Thu 1/5,Thu 1/12,Thu 1/19,Thu 1/26,Thu 2/2</td>\n",
       "      <td>30,27,28,32,33</td>\n",
       "      <td>8,7,12,13,14</td>\n",
       "      <td>2017</td>\n",
       "    </tr>\n",
       "  </tbody>\n",
       "</table>\n",
       "</div>"
      ],
      "text/plain": [
       "                                           day             max  \\\n",
       "0  Sun 1/1,Sun 1/8,Sun 1/15,Sun 1/22,Sun 1/29   30,30,29,31,31   \n",
       "1  Mon 1/2,Mon 1/9,Mon 1/16,Mon 1/23,Mon 1/30   31,29,29,32,32   \n",
       "2  Tue 1/3,Tue 1/10,Tue 1/17,Tue 1/24,Tue 1/31  28,30,30,30,33   \n",
       "3  Wed 1/4,Wed 1/11,Wed 1/18,Wed 1/25,Wed 2/1   29,29,29,31,32   \n",
       "4  Thu 1/5,Thu 1/12,Thu 1/19,Thu 1/26,Thu 2/2   30,27,28,32,33   \n",
       "\n",
       "              min  year  \n",
       "0  11,10,14,13,12  2017  \n",
       "1  11,11,15,13,12  2017  \n",
       "2  9,9,15,13,12    2017  \n",
       "3  9,8,14,13,13    2017  \n",
       "4  8,7,12,13,14    2017  "
      ]
     },
     "execution_count": 478,
     "metadata": {},
     "output_type": "execute_result"
    }
   ],
   "source": [
    "sample = pd.read_csv('output_1.csv')\n",
    "sample.head()"
   ]
  },
  {
   "cell_type": "code",
   "execution_count": 479,
   "metadata": {},
   "outputs": [
    {
     "name": "stdout",
     "output_type": "stream",
     "text": [
      "<class 'pandas.core.frame.DataFrame'>\n",
      "RangeIndex: 84 entries, 0 to 83\n",
      "Data columns (total 4 columns):\n",
      "day     84 non-null object\n",
      "max     84 non-null object\n",
      "min     84 non-null object\n",
      "year    84 non-null object\n",
      "dtypes: object(4)\n",
      "memory usage: 2.7+ KB\n"
     ]
    }
   ],
   "source": [
    "sample.info()"
   ]
  },
  {
   "cell_type": "code",
   "execution_count": 480,
   "metadata": {},
   "outputs": [
    {
     "data": {
      "text/plain": [
       "(['Sun 1/1', 'Sun 1/8', 'Sun 1/15', 'Sun 1/22', 'Sun 1/29'],\n",
       " '30,30,29,31,31',\n",
       " '11,10,14,13,12',\n",
       " '2017')"
      ]
     },
     "execution_count": 480,
     "metadata": {},
     "output_type": "execute_result"
    }
   ],
   "source": [
    "sample['day'][0].split(\",\"), sample['max'][0], sample['min'][0], sample['year'][0]"
   ]
  },
  {
   "cell_type": "markdown",
   "metadata": {},
   "source": [
    "This dataset needs to be reformatted to be used, to have a DF in the following format ::\n",
    "    weekday | month | day | max  | min\n",
    "    'Sun'      '1'    '01'  '30'   '2'"
   ]
  },
  {
   "cell_type": "code",
   "execution_count": 481,
   "metadata": {},
   "outputs": [],
   "source": [
    "final_data =  pd.DataFrame(data=None, columns=['day', 'max', 'min', 'year'])"
   ]
  },
  {
   "cell_type": "code",
   "execution_count": 482,
   "metadata": {},
   "outputs": [],
   "source": [
    "for key, record in sample.iterrows():\n",
    "    d = {'day': record['day'].split(\",\"), \n",
    "         'max': record['max'].split(\",\"),\n",
    "         'min': record['min'].split(\",\"),\n",
    "         'year': record['year']\n",
    "        }\n",
    "    df = pd.DataFrame(data=d, columns=['day', 'max', 'min', 'year'])\n",
    "    final_data = pd.concat([final_data, df], ignore_index=True)\n",
    "    "
   ]
  },
  {
   "cell_type": "code",
   "execution_count": 483,
   "metadata": {},
   "outputs": [
    {
     "data": {
      "text/html": [
       "<div>\n",
       "<style scoped>\n",
       "    .dataframe tbody tr th:only-of-type {\n",
       "        vertical-align: middle;\n",
       "    }\n",
       "\n",
       "    .dataframe tbody tr th {\n",
       "        vertical-align: top;\n",
       "    }\n",
       "\n",
       "    .dataframe thead th {\n",
       "        text-align: right;\n",
       "    }\n",
       "</style>\n",
       "<table border=\"1\" class=\"dataframe\">\n",
       "  <thead>\n",
       "    <tr style=\"text-align: right;\">\n",
       "      <th></th>\n",
       "      <th>day</th>\n",
       "      <th>max</th>\n",
       "      <th>min</th>\n",
       "      <th>year</th>\n",
       "    </tr>\n",
       "  </thead>\n",
       "  <tbody>\n",
       "    <tr>\n",
       "      <th>431</th>\n",
       "      <td>Fri 12/15</td>\n",
       "      <td>29</td>\n",
       "      <td>15</td>\n",
       "      <td>December 2017</td>\n",
       "    </tr>\n",
       "    <tr>\n",
       "      <th>432</th>\n",
       "      <td>Fri 12/22</td>\n",
       "      <td>29</td>\n",
       "      <td>11</td>\n",
       "      <td>December 2017</td>\n",
       "    </tr>\n",
       "    <tr>\n",
       "      <th>433</th>\n",
       "      <td>Fri 12/29</td>\n",
       "      <td>29</td>\n",
       "      <td>9</td>\n",
       "      <td>December 2017</td>\n",
       "    </tr>\n",
       "    <tr>\n",
       "      <th>434</th>\n",
       "      <td>Fri 1/5</td>\n",
       "      <td>29</td>\n",
       "      <td>12</td>\n",
       "      <td>December 2017</td>\n",
       "    </tr>\n",
       "    <tr>\n",
       "      <th>435</th>\n",
       "      <td>Sat 12/2</td>\n",
       "      <td>28</td>\n",
       "      <td>12</td>\n",
       "      <td>December 2017</td>\n",
       "    </tr>\n",
       "    <tr>\n",
       "      <th>436</th>\n",
       "      <td>Sat 12/9</td>\n",
       "      <td>31</td>\n",
       "      <td>18</td>\n",
       "      <td>December 2017</td>\n",
       "    </tr>\n",
       "    <tr>\n",
       "      <th>437</th>\n",
       "      <td>Sat 12/16</td>\n",
       "      <td>30</td>\n",
       "      <td>15</td>\n",
       "      <td>December 2017</td>\n",
       "    </tr>\n",
       "    <tr>\n",
       "      <th>438</th>\n",
       "      <td>Sat 12/23</td>\n",
       "      <td>30</td>\n",
       "      <td>10</td>\n",
       "      <td>December 2017</td>\n",
       "    </tr>\n",
       "    <tr>\n",
       "      <th>439</th>\n",
       "      <td>Sat 12/30</td>\n",
       "      <td>29</td>\n",
       "      <td>9</td>\n",
       "      <td>December 2017</td>\n",
       "    </tr>\n",
       "    <tr>\n",
       "      <th>440</th>\n",
       "      <td>Sat 1/6</td>\n",
       "      <td>29</td>\n",
       "      <td>13</td>\n",
       "      <td>December 2017</td>\n",
       "    </tr>\n",
       "  </tbody>\n",
       "</table>\n",
       "</div>"
      ],
      "text/plain": [
       "           day max min            year\n",
       "431  Fri 12/15  29  15  December 2017 \n",
       "432  Fri 12/22  29  11  December 2017 \n",
       "433  Fri 12/29  29  9   December 2017 \n",
       "434  Fri 1/5    29  12  December 2017 \n",
       "435  Sat 12/2   28  12  December 2017 \n",
       "436  Sat 12/9   31  18  December 2017 \n",
       "437  Sat 12/16  30  15  December 2017 \n",
       "438  Sat 12/23  30  10  December 2017 \n",
       "439  Sat 12/30  29  9   December 2017 \n",
       "440  Sat 1/6    29  13  December 2017 "
      ]
     },
     "execution_count": 483,
     "metadata": {},
     "output_type": "execute_result"
    }
   ],
   "source": [
    "final_data.tail(10)"
   ]
  },
  {
   "cell_type": "markdown",
   "metadata": {},
   "source": [
    "### Data Cleansing\n",
    "The day column is made of 3 components - 'Day of week', 'Numerical Month' and 'Day'. So we need to seperate this into\n",
    "individual columns. Also year is Month in Words and Numerical Year, so they need to go into seperate columns.\n",
    "Then we need to check for duplicate rows and delete them and then we can do any data analysis."
   ]
  },
  {
   "cell_type": "code",
   "execution_count": 484,
   "metadata": {},
   "outputs": [
    {
     "data": {
      "text/html": [
       "<div>\n",
       "<style scoped>\n",
       "    .dataframe tbody tr th:only-of-type {\n",
       "        vertical-align: middle;\n",
       "    }\n",
       "\n",
       "    .dataframe tbody tr th {\n",
       "        vertical-align: top;\n",
       "    }\n",
       "\n",
       "    .dataframe thead th {\n",
       "        text-align: right;\n",
       "    }\n",
       "</style>\n",
       "<table border=\"1\" class=\"dataframe\">\n",
       "  <thead>\n",
       "    <tr style=\"text-align: right;\">\n",
       "      <th></th>\n",
       "      <th>day</th>\n",
       "      <th>max</th>\n",
       "      <th>min</th>\n",
       "      <th>year</th>\n",
       "      <th>split_day</th>\n",
       "    </tr>\n",
       "  </thead>\n",
       "  <tbody>\n",
       "    <tr>\n",
       "      <th>0</th>\n",
       "      <td>Sun 1/1</td>\n",
       "      <td>30</td>\n",
       "      <td>11</td>\n",
       "      <td>2017</td>\n",
       "      <td>[Sun, 1/1]</td>\n",
       "    </tr>\n",
       "    <tr>\n",
       "      <th>1</th>\n",
       "      <td>Sun 1/8</td>\n",
       "      <td>30</td>\n",
       "      <td>10</td>\n",
       "      <td>2017</td>\n",
       "      <td>[Sun, 1/8]</td>\n",
       "    </tr>\n",
       "    <tr>\n",
       "      <th>2</th>\n",
       "      <td>Sun 1/15</td>\n",
       "      <td>29</td>\n",
       "      <td>14</td>\n",
       "      <td>2017</td>\n",
       "      <td>[Sun, 1/15]</td>\n",
       "    </tr>\n",
       "    <tr>\n",
       "      <th>3</th>\n",
       "      <td>Sun 1/22</td>\n",
       "      <td>31</td>\n",
       "      <td>13</td>\n",
       "      <td>2017</td>\n",
       "      <td>[Sun, 1/22]</td>\n",
       "    </tr>\n",
       "    <tr>\n",
       "      <th>4</th>\n",
       "      <td>Sun 1/29</td>\n",
       "      <td>31</td>\n",
       "      <td>12</td>\n",
       "      <td>2017</td>\n",
       "      <td>[Sun, 1/29]</td>\n",
       "    </tr>\n",
       "  </tbody>\n",
       "</table>\n",
       "</div>"
      ],
      "text/plain": [
       "        day max min  year    split_day\n",
       "0  Sun 1/1   30  11  2017  [Sun, 1/1] \n",
       "1  Sun 1/8   30  10  2017  [Sun, 1/8] \n",
       "2  Sun 1/15  29  14  2017  [Sun, 1/15]\n",
       "3  Sun 1/22  31  13  2017  [Sun, 1/22]\n",
       "4  Sun 1/29  31  12  2017  [Sun, 1/29]"
      ]
     },
     "execution_count": 484,
     "metadata": {},
     "output_type": "execute_result"
    }
   ],
   "source": [
    "final_data['split_day'] = final_data['day'].str.split(' ')\n",
    "final_data.head(5)"
   ]
  },
  {
   "cell_type": "code",
   "execution_count": 485,
   "metadata": {},
   "outputs": [
    {
     "data": {
      "text/html": [
       "<div>\n",
       "<style scoped>\n",
       "    .dataframe tbody tr th:only-of-type {\n",
       "        vertical-align: middle;\n",
       "    }\n",
       "\n",
       "    .dataframe tbody tr th {\n",
       "        vertical-align: top;\n",
       "    }\n",
       "\n",
       "    .dataframe thead th {\n",
       "        text-align: right;\n",
       "    }\n",
       "</style>\n",
       "<table border=\"1\" class=\"dataframe\">\n",
       "  <thead>\n",
       "    <tr style=\"text-align: right;\">\n",
       "      <th></th>\n",
       "      <th>day</th>\n",
       "      <th>max</th>\n",
       "      <th>min</th>\n",
       "      <th>year</th>\n",
       "      <th>split_day</th>\n",
       "      <th>day_of_week</th>\n",
       "      <th>day_of_month</th>\n",
       "    </tr>\n",
       "  </thead>\n",
       "  <tbody>\n",
       "    <tr>\n",
       "      <th>0</th>\n",
       "      <td>Sun 1/1</td>\n",
       "      <td>30</td>\n",
       "      <td>11</td>\n",
       "      <td>2017</td>\n",
       "      <td>[Sun, 1/1]</td>\n",
       "      <td>Sun</td>\n",
       "      <td>1/1</td>\n",
       "    </tr>\n",
       "    <tr>\n",
       "      <th>1</th>\n",
       "      <td>Sun 1/8</td>\n",
       "      <td>30</td>\n",
       "      <td>10</td>\n",
       "      <td>2017</td>\n",
       "      <td>[Sun, 1/8]</td>\n",
       "      <td>Sun</td>\n",
       "      <td>1/8</td>\n",
       "    </tr>\n",
       "    <tr>\n",
       "      <th>2</th>\n",
       "      <td>Sun 1/15</td>\n",
       "      <td>29</td>\n",
       "      <td>14</td>\n",
       "      <td>2017</td>\n",
       "      <td>[Sun, 1/15]</td>\n",
       "      <td>Sun</td>\n",
       "      <td>1/15</td>\n",
       "    </tr>\n",
       "    <tr>\n",
       "      <th>3</th>\n",
       "      <td>Sun 1/22</td>\n",
       "      <td>31</td>\n",
       "      <td>13</td>\n",
       "      <td>2017</td>\n",
       "      <td>[Sun, 1/22]</td>\n",
       "      <td>Sun</td>\n",
       "      <td>1/22</td>\n",
       "    </tr>\n",
       "    <tr>\n",
       "      <th>4</th>\n",
       "      <td>Sun 1/29</td>\n",
       "      <td>31</td>\n",
       "      <td>12</td>\n",
       "      <td>2017</td>\n",
       "      <td>[Sun, 1/29]</td>\n",
       "      <td>Sun</td>\n",
       "      <td>1/29</td>\n",
       "    </tr>\n",
       "  </tbody>\n",
       "</table>\n",
       "</div>"
      ],
      "text/plain": [
       "        day max min  year    split_day day_of_week day_of_month\n",
       "0  Sun 1/1   30  11  2017  [Sun, 1/1]   Sun         1/1        \n",
       "1  Sun 1/8   30  10  2017  [Sun, 1/8]   Sun         1/8        \n",
       "2  Sun 1/15  29  14  2017  [Sun, 1/15]  Sun         1/15       \n",
       "3  Sun 1/22  31  13  2017  [Sun, 1/22]  Sun         1/22       \n",
       "4  Sun 1/29  31  12  2017  [Sun, 1/29]  Sun         1/29       "
      ]
     },
     "execution_count": 485,
     "metadata": {},
     "output_type": "execute_result"
    }
   ],
   "source": [
    "final_data['day_of_week'] = final_data['split_day'].str.get(0)\n",
    "final_data['day_of_month'] = final_data['split_day'].str.get(1)\n",
    "final_data.head(5)"
   ]
  },
  {
   "cell_type": "code",
   "execution_count": 486,
   "metadata": {},
   "outputs": [
    {
     "data": {
      "text/html": [
       "<div>\n",
       "<style scoped>\n",
       "    .dataframe tbody tr th:only-of-type {\n",
       "        vertical-align: middle;\n",
       "    }\n",
       "\n",
       "    .dataframe tbody tr th {\n",
       "        vertical-align: top;\n",
       "    }\n",
       "\n",
       "    .dataframe thead th {\n",
       "        text-align: right;\n",
       "    }\n",
       "</style>\n",
       "<table border=\"1\" class=\"dataframe\">\n",
       "  <thead>\n",
       "    <tr style=\"text-align: right;\">\n",
       "      <th></th>\n",
       "      <th>day</th>\n",
       "      <th>max</th>\n",
       "      <th>min</th>\n",
       "      <th>year</th>\n",
       "      <th>split_day</th>\n",
       "      <th>day_of_week</th>\n",
       "      <th>day_of_month</th>\n",
       "      <th>month_n_day</th>\n",
       "      <th>month</th>\n",
       "    </tr>\n",
       "  </thead>\n",
       "  <tbody>\n",
       "    <tr>\n",
       "      <th>0</th>\n",
       "      <td>1</td>\n",
       "      <td>30</td>\n",
       "      <td>11</td>\n",
       "      <td>2017</td>\n",
       "      <td>[Sun, 1/1]</td>\n",
       "      <td>Sun</td>\n",
       "      <td>1/1</td>\n",
       "      <td>[1, 1]</td>\n",
       "      <td>1</td>\n",
       "    </tr>\n",
       "    <tr>\n",
       "      <th>1</th>\n",
       "      <td>8</td>\n",
       "      <td>30</td>\n",
       "      <td>10</td>\n",
       "      <td>2017</td>\n",
       "      <td>[Sun, 1/8]</td>\n",
       "      <td>Sun</td>\n",
       "      <td>1/8</td>\n",
       "      <td>[1, 8]</td>\n",
       "      <td>1</td>\n",
       "    </tr>\n",
       "    <tr>\n",
       "      <th>2</th>\n",
       "      <td>15</td>\n",
       "      <td>29</td>\n",
       "      <td>14</td>\n",
       "      <td>2017</td>\n",
       "      <td>[Sun, 1/15]</td>\n",
       "      <td>Sun</td>\n",
       "      <td>1/15</td>\n",
       "      <td>[1, 15]</td>\n",
       "      <td>1</td>\n",
       "    </tr>\n",
       "    <tr>\n",
       "      <th>3</th>\n",
       "      <td>22</td>\n",
       "      <td>31</td>\n",
       "      <td>13</td>\n",
       "      <td>2017</td>\n",
       "      <td>[Sun, 1/22]</td>\n",
       "      <td>Sun</td>\n",
       "      <td>1/22</td>\n",
       "      <td>[1, 22]</td>\n",
       "      <td>1</td>\n",
       "    </tr>\n",
       "    <tr>\n",
       "      <th>4</th>\n",
       "      <td>29</td>\n",
       "      <td>31</td>\n",
       "      <td>12</td>\n",
       "      <td>2017</td>\n",
       "      <td>[Sun, 1/29]</td>\n",
       "      <td>Sun</td>\n",
       "      <td>1/29</td>\n",
       "      <td>[1, 29]</td>\n",
       "      <td>1</td>\n",
       "    </tr>\n",
       "  </tbody>\n",
       "</table>\n",
       "</div>"
      ],
      "text/plain": [
       "  day max min  year    split_day day_of_week day_of_month month_n_day month\n",
       "0  1   30  11  2017  [Sun, 1/1]   Sun         1/1          [1, 1]      1   \n",
       "1  8   30  10  2017  [Sun, 1/8]   Sun         1/8          [1, 8]      1   \n",
       "2  15  29  14  2017  [Sun, 1/15]  Sun         1/15         [1, 15]     1   \n",
       "3  22  31  13  2017  [Sun, 1/22]  Sun         1/22         [1, 22]     1   \n",
       "4  29  31  12  2017  [Sun, 1/29]  Sun         1/29         [1, 29]     1   "
      ]
     },
     "execution_count": 486,
     "metadata": {},
     "output_type": "execute_result"
    }
   ],
   "source": [
    "final_data['month_n_day'] = final_data['day_of_month'].str.split('/')\n",
    "final_data['month'] = final_data['month_n_day'].str.get(0)\n",
    "final_data['day'] = final_data['month_n_day'].str.get(1)\n",
    "final_data.head(5)"
   ]
  },
  {
   "cell_type": "code",
   "execution_count": 487,
   "metadata": {},
   "outputs": [],
   "source": [
    "final_data = final_data.drop(columns = ['split_day', 'month_n_day', 'day_of_month'])"
   ]
  },
  {
   "cell_type": "code",
   "execution_count": 488,
   "metadata": {},
   "outputs": [],
   "source": [
    "final_data['year'] = 'December 2017'"
   ]
  },
  {
   "cell_type": "code",
   "execution_count": 489,
   "metadata": {},
   "outputs": [
    {
     "data": {
      "text/html": [
       "<div>\n",
       "<style scoped>\n",
       "    .dataframe tbody tr th:only-of-type {\n",
       "        vertical-align: middle;\n",
       "    }\n",
       "\n",
       "    .dataframe tbody tr th {\n",
       "        vertical-align: top;\n",
       "    }\n",
       "\n",
       "    .dataframe thead th {\n",
       "        text-align: right;\n",
       "    }\n",
       "</style>\n",
       "<table border=\"1\" class=\"dataframe\">\n",
       "  <thead>\n",
       "    <tr style=\"text-align: right;\">\n",
       "      <th></th>\n",
       "      <th>day</th>\n",
       "      <th>max</th>\n",
       "      <th>min</th>\n",
       "      <th>year</th>\n",
       "      <th>day_of_week</th>\n",
       "      <th>month</th>\n",
       "    </tr>\n",
       "  </thead>\n",
       "  <tbody>\n",
       "    <tr>\n",
       "      <th>0</th>\n",
       "      <td>1</td>\n",
       "      <td>30</td>\n",
       "      <td>11</td>\n",
       "      <td>December 2017</td>\n",
       "      <td>Sun</td>\n",
       "      <td>1</td>\n",
       "    </tr>\n",
       "    <tr>\n",
       "      <th>1</th>\n",
       "      <td>8</td>\n",
       "      <td>30</td>\n",
       "      <td>10</td>\n",
       "      <td>December 2017</td>\n",
       "      <td>Sun</td>\n",
       "      <td>1</td>\n",
       "    </tr>\n",
       "    <tr>\n",
       "      <th>2</th>\n",
       "      <td>15</td>\n",
       "      <td>29</td>\n",
       "      <td>14</td>\n",
       "      <td>December 2017</td>\n",
       "      <td>Sun</td>\n",
       "      <td>1</td>\n",
       "    </tr>\n",
       "    <tr>\n",
       "      <th>3</th>\n",
       "      <td>22</td>\n",
       "      <td>31</td>\n",
       "      <td>13</td>\n",
       "      <td>December 2017</td>\n",
       "      <td>Sun</td>\n",
       "      <td>1</td>\n",
       "    </tr>\n",
       "    <tr>\n",
       "      <th>4</th>\n",
       "      <td>29</td>\n",
       "      <td>31</td>\n",
       "      <td>12</td>\n",
       "      <td>December 2017</td>\n",
       "      <td>Sun</td>\n",
       "      <td>1</td>\n",
       "    </tr>\n",
       "    <tr>\n",
       "      <th>5</th>\n",
       "      <td>2</td>\n",
       "      <td>31</td>\n",
       "      <td>11</td>\n",
       "      <td>December 2017</td>\n",
       "      <td>Mon</td>\n",
       "      <td>1</td>\n",
       "    </tr>\n",
       "    <tr>\n",
       "      <th>6</th>\n",
       "      <td>9</td>\n",
       "      <td>29</td>\n",
       "      <td>11</td>\n",
       "      <td>December 2017</td>\n",
       "      <td>Mon</td>\n",
       "      <td>1</td>\n",
       "    </tr>\n",
       "    <tr>\n",
       "      <th>7</th>\n",
       "      <td>16</td>\n",
       "      <td>29</td>\n",
       "      <td>15</td>\n",
       "      <td>December 2017</td>\n",
       "      <td>Mon</td>\n",
       "      <td>1</td>\n",
       "    </tr>\n",
       "    <tr>\n",
       "      <th>8</th>\n",
       "      <td>23</td>\n",
       "      <td>32</td>\n",
       "      <td>13</td>\n",
       "      <td>December 2017</td>\n",
       "      <td>Mon</td>\n",
       "      <td>1</td>\n",
       "    </tr>\n",
       "    <tr>\n",
       "      <th>9</th>\n",
       "      <td>30</td>\n",
       "      <td>32</td>\n",
       "      <td>12</td>\n",
       "      <td>December 2017</td>\n",
       "      <td>Mon</td>\n",
       "      <td>1</td>\n",
       "    </tr>\n",
       "  </tbody>\n",
       "</table>\n",
       "</div>"
      ],
      "text/plain": [
       "  day max min           year day_of_week month\n",
       "0  1   30  11  December 2017  Sun         1   \n",
       "1  8   30  10  December 2017  Sun         1   \n",
       "2  15  29  14  December 2017  Sun         1   \n",
       "3  22  31  13  December 2017  Sun         1   \n",
       "4  29  31  12  December 2017  Sun         1   \n",
       "5  2   31  11  December 2017  Mon         1   \n",
       "6  9   29  11  December 2017  Mon         1   \n",
       "7  16  29  15  December 2017  Mon         1   \n",
       "8  23  32  13  December 2017  Mon         1   \n",
       "9  30  32  12  December 2017  Mon         1   "
      ]
     },
     "execution_count": 489,
     "metadata": {},
     "output_type": "execute_result"
    }
   ],
   "source": [
    "final_data.head(10)"
   ]
  },
  {
   "cell_type": "markdown",
   "metadata": {},
   "source": [
    "### Check for duplicates"
   ]
  },
  {
   "cell_type": "code",
   "execution_count": 490,
   "metadata": {},
   "outputs": [
    {
     "data": {
      "text/plain": [
       "70"
      ]
     },
     "execution_count": 490,
     "metadata": {},
     "output_type": "execute_result"
    }
   ],
   "source": [
    "sum(final_data.duplicated())"
   ]
  },
  {
   "cell_type": "code",
   "execution_count": 491,
   "metadata": {},
   "outputs": [
    {
     "data": {
      "text/html": [
       "<div>\n",
       "<style scoped>\n",
       "    .dataframe tbody tr th:only-of-type {\n",
       "        vertical-align: middle;\n",
       "    }\n",
       "\n",
       "    .dataframe tbody tr th {\n",
       "        vertical-align: top;\n",
       "    }\n",
       "\n",
       "    .dataframe thead th {\n",
       "        text-align: right;\n",
       "    }\n",
       "</style>\n",
       "<table border=\"1\" class=\"dataframe\">\n",
       "  <thead>\n",
       "    <tr style=\"text-align: right;\">\n",
       "      <th></th>\n",
       "      <th>day</th>\n",
       "      <th>max</th>\n",
       "      <th>min</th>\n",
       "      <th>year</th>\n",
       "      <th>day_of_week</th>\n",
       "      <th>month</th>\n",
       "    </tr>\n",
       "  </thead>\n",
       "  <tbody>\n",
       "    <tr>\n",
       "      <th>234</th>\n",
       "      <td>1</td>\n",
       "      <td>28</td>\n",
       "      <td>21</td>\n",
       "      <td>December 2017</td>\n",
       "      <td>Tue</td>\n",
       "      <td>8</td>\n",
       "    </tr>\n",
       "    <tr>\n",
       "      <th>269</th>\n",
       "      <td>1</td>\n",
       "      <td>28</td>\n",
       "      <td>21</td>\n",
       "      <td>December 2017</td>\n",
       "      <td>Tue</td>\n",
       "      <td>8</td>\n",
       "    </tr>\n",
       "    <tr>\n",
       "      <th>393</th>\n",
       "      <td>1</td>\n",
       "      <td>29</td>\n",
       "      <td>13</td>\n",
       "      <td>December 2017</td>\n",
       "      <td>Fri</td>\n",
       "      <td>12</td>\n",
       "    </tr>\n",
       "    <tr>\n",
       "      <th>429</th>\n",
       "      <td>1</td>\n",
       "      <td>29</td>\n",
       "      <td>13</td>\n",
       "      <td>December 2017</td>\n",
       "      <td>Fri</td>\n",
       "      <td>12</td>\n",
       "    </tr>\n",
       "    <tr>\n",
       "      <th>288</th>\n",
       "      <td>1</td>\n",
       "      <td>29</td>\n",
       "      <td>21</td>\n",
       "      <td>December 2017</td>\n",
       "      <td>Fri</td>\n",
       "      <td>9</td>\n",
       "    </tr>\n",
       "    <tr>\n",
       "      <th>319</th>\n",
       "      <td>1</td>\n",
       "      <td>29</td>\n",
       "      <td>21</td>\n",
       "      <td>December 2017</td>\n",
       "      <td>Fri</td>\n",
       "      <td>9</td>\n",
       "    </tr>\n",
       "    <tr>\n",
       "      <th>216</th>\n",
       "      <td>1</td>\n",
       "      <td>29</td>\n",
       "      <td>23</td>\n",
       "      <td>December 2017</td>\n",
       "      <td>Sat</td>\n",
       "      <td>7</td>\n",
       "    </tr>\n",
       "    <tr>\n",
       "      <th>253</th>\n",
       "      <td>1</td>\n",
       "      <td>29</td>\n",
       "      <td>23</td>\n",
       "      <td>December 2017</td>\n",
       "      <td>Sat</td>\n",
       "      <td>7</td>\n",
       "    </tr>\n",
       "    <tr>\n",
       "      <th>348</th>\n",
       "      <td>1</td>\n",
       "      <td>31</td>\n",
       "      <td>14</td>\n",
       "      <td>December 2017</td>\n",
       "      <td>Wed</td>\n",
       "      <td>11</td>\n",
       "    </tr>\n",
       "    <tr>\n",
       "      <th>379</th>\n",
       "      <td>1</td>\n",
       "      <td>31</td>\n",
       "      <td>14</td>\n",
       "      <td>December 2017</td>\n",
       "      <td>Wed</td>\n",
       "      <td>11</td>\n",
       "    </tr>\n",
       "    <tr>\n",
       "      <th>19</th>\n",
       "      <td>1</td>\n",
       "      <td>32</td>\n",
       "      <td>13</td>\n",
       "      <td>December 2017</td>\n",
       "      <td>Wed</td>\n",
       "      <td>2</td>\n",
       "    </tr>\n",
       "    <tr>\n",
       "      <th>50</th>\n",
       "      <td>1</td>\n",
       "      <td>32</td>\n",
       "      <td>13</td>\n",
       "      <td>December 2017</td>\n",
       "      <td>Wed</td>\n",
       "      <td>2</td>\n",
       "    </tr>\n",
       "    <tr>\n",
       "      <th>54</th>\n",
       "      <td>1</td>\n",
       "      <td>36</td>\n",
       "      <td>13</td>\n",
       "      <td>December 2017</td>\n",
       "      <td>Wed</td>\n",
       "      <td>3</td>\n",
       "    </tr>\n",
       "    <tr>\n",
       "      <th>85</th>\n",
       "      <td>1</td>\n",
       "      <td>36</td>\n",
       "      <td>13</td>\n",
       "      <td>December 2017</td>\n",
       "      <td>Wed</td>\n",
       "      <td>3</td>\n",
       "    </tr>\n",
       "    <tr>\n",
       "      <th>171</th>\n",
       "      <td>1</td>\n",
       "      <td>38</td>\n",
       "      <td>25</td>\n",
       "      <td>December 2017</td>\n",
       "      <td>Thu</td>\n",
       "      <td>6</td>\n",
       "    </tr>\n",
       "    <tr>\n",
       "      <th>202</th>\n",
       "      <td>1</td>\n",
       "      <td>38</td>\n",
       "      <td>25</td>\n",
       "      <td>December 2017</td>\n",
       "      <td>Thu</td>\n",
       "      <td>6</td>\n",
       "    </tr>\n",
       "    <tr>\n",
       "      <th>104</th>\n",
       "      <td>1</td>\n",
       "      <td>38</td>\n",
       "      <td>26</td>\n",
       "      <td>December 2017</td>\n",
       "      <td>Sat</td>\n",
       "      <td>4</td>\n",
       "    </tr>\n",
       "    <tr>\n",
       "      <th>141</th>\n",
       "      <td>1</td>\n",
       "      <td>38</td>\n",
       "      <td>26</td>\n",
       "      <td>December 2017</td>\n",
       "      <td>Sat</td>\n",
       "      <td>4</td>\n",
       "    </tr>\n",
       "    <tr>\n",
       "      <th>116</th>\n",
       "      <td>1</td>\n",
       "      <td>39</td>\n",
       "      <td>19</td>\n",
       "      <td>December 2017</td>\n",
       "      <td>Mon</td>\n",
       "      <td>5</td>\n",
       "    </tr>\n",
       "    <tr>\n",
       "      <th>152</th>\n",
       "      <td>1</td>\n",
       "      <td>39</td>\n",
       "      <td>19</td>\n",
       "      <td>December 2017</td>\n",
       "      <td>Mon</td>\n",
       "      <td>5</td>\n",
       "    </tr>\n",
       "  </tbody>\n",
       "</table>\n",
       "</div>"
      ],
      "text/plain": [
       "    day max min           year day_of_week month\n",
       "234  1   28  21  December 2017  Tue         8   \n",
       "269  1   28  21  December 2017  Tue         8   \n",
       "393  1   29  13  December 2017  Fri         12  \n",
       "429  1   29  13  December 2017  Fri         12  \n",
       "288  1   29  21  December 2017  Fri         9   \n",
       "319  1   29  21  December 2017  Fri         9   \n",
       "216  1   29  23  December 2017  Sat         7   \n",
       "253  1   29  23  December 2017  Sat         7   \n",
       "348  1   31  14  December 2017  Wed         11  \n",
       "379  1   31  14  December 2017  Wed         11  \n",
       "19   1   32  13  December 2017  Wed         2   \n",
       "50   1   32  13  December 2017  Wed         2   \n",
       "54   1   36  13  December 2017  Wed         3   \n",
       "85   1   36  13  December 2017  Wed         3   \n",
       "171  1   38  25  December 2017  Thu         6   \n",
       "202  1   38  25  December 2017  Thu         6   \n",
       "104  1   38  26  December 2017  Sat         4   \n",
       "141  1   38  26  December 2017  Sat         4   \n",
       "116  1   39  19  December 2017  Mon         5   \n",
       "152  1   39  19  December 2017  Mon         5   "
      ]
     },
     "execution_count": 491,
     "metadata": {},
     "output_type": "execute_result"
    }
   ],
   "source": [
    "to_delete = final_data[final_data.duplicated(keep=False)]\n",
    "to_delete.sort_values(by=['day', 'max', 'min']).head(20) "
   ]
  },
  {
   "cell_type": "code",
   "execution_count": 492,
   "metadata": {},
   "outputs": [],
   "source": [
    "final_data.drop_duplicates(inplace=True)"
   ]
  },
  {
   "cell_type": "code",
   "execution_count": 493,
   "metadata": {},
   "outputs": [
    {
     "name": "stdout",
     "output_type": "stream",
     "text": [
      "<class 'pandas.core.frame.DataFrame'>\n",
      "Int64Index: 371 entries, 0 to 440\n",
      "Data columns (total 6 columns):\n",
      "day            371 non-null object\n",
      "max            371 non-null object\n",
      "min            371 non-null object\n",
      "year           371 non-null object\n",
      "day_of_week    371 non-null object\n",
      "month          371 non-null object\n",
      "dtypes: object(6)\n",
      "memory usage: 20.3+ KB\n"
     ]
    }
   ],
   "source": [
    "final_data.info()"
   ]
  },
  {
   "cell_type": "markdown",
   "metadata": {},
   "source": [
    "#### merge the max and min columns to a single column called temp_type and values"
   ]
  },
  {
   "cell_type": "code",
   "execution_count": 494,
   "metadata": {},
   "outputs": [
    {
     "data": {
      "text/html": [
       "<div>\n",
       "<style scoped>\n",
       "    .dataframe tbody tr th:only-of-type {\n",
       "        vertical-align: middle;\n",
       "    }\n",
       "\n",
       "    .dataframe tbody tr th {\n",
       "        vertical-align: top;\n",
       "    }\n",
       "\n",
       "    .dataframe thead th {\n",
       "        text-align: right;\n",
       "    }\n",
       "</style>\n",
       "<table border=\"1\" class=\"dataframe\">\n",
       "  <thead>\n",
       "    <tr style=\"text-align: right;\">\n",
       "      <th></th>\n",
       "      <th>year</th>\n",
       "      <th>month</th>\n",
       "      <th>day</th>\n",
       "      <th>day_of_week</th>\n",
       "      <th>temp_type</th>\n",
       "      <th>values</th>\n",
       "    </tr>\n",
       "  </thead>\n",
       "  <tbody>\n",
       "    <tr>\n",
       "      <th>737</th>\n",
       "      <td>December 2017</td>\n",
       "      <td>12</td>\n",
       "      <td>9</td>\n",
       "      <td>Sat</td>\n",
       "      <td>min</td>\n",
       "      <td>18</td>\n",
       "    </tr>\n",
       "    <tr>\n",
       "      <th>738</th>\n",
       "      <td>December 2017</td>\n",
       "      <td>12</td>\n",
       "      <td>16</td>\n",
       "      <td>Sat</td>\n",
       "      <td>min</td>\n",
       "      <td>15</td>\n",
       "    </tr>\n",
       "    <tr>\n",
       "      <th>739</th>\n",
       "      <td>December 2017</td>\n",
       "      <td>12</td>\n",
       "      <td>23</td>\n",
       "      <td>Sat</td>\n",
       "      <td>min</td>\n",
       "      <td>10</td>\n",
       "    </tr>\n",
       "    <tr>\n",
       "      <th>740</th>\n",
       "      <td>December 2017</td>\n",
       "      <td>12</td>\n",
       "      <td>30</td>\n",
       "      <td>Sat</td>\n",
       "      <td>min</td>\n",
       "      <td>9</td>\n",
       "    </tr>\n",
       "    <tr>\n",
       "      <th>741</th>\n",
       "      <td>December 2017</td>\n",
       "      <td>1</td>\n",
       "      <td>6</td>\n",
       "      <td>Sat</td>\n",
       "      <td>min</td>\n",
       "      <td>13</td>\n",
       "    </tr>\n",
       "  </tbody>\n",
       "</table>\n",
       "</div>"
      ],
      "text/plain": [
       "              year month day day_of_week temp_type values\n",
       "737  December 2017  12    9   Sat         min       18   \n",
       "738  December 2017  12    16  Sat         min       15   \n",
       "739  December 2017  12    23  Sat         min       10   \n",
       "740  December 2017  12    30  Sat         min       9    \n",
       "741  December 2017  1     6   Sat         min       13   "
      ]
     },
     "execution_count": 494,
     "metadata": {},
     "output_type": "execute_result"
    }
   ],
   "source": [
    "final_data = pd.melt(final_data, id_vars=[\"year\", \"month\", \"day\", \"day_of_week\"], value_vars= ['max', 'min'], \n",
    "                                                             var_name=\"temp_type\", value_name=\"values\")\n",
    "final_data.tail()"
   ]
  },
  {
   "cell_type": "code",
   "execution_count": 495,
   "metadata": {},
   "outputs": [],
   "source": [
    "final_data['day'] = final_data.day.astype(np.int64)\n",
    "final_data['values'] = final_data['values'].astype(np.int64)"
   ]
  },
  {
   "cell_type": "code",
   "execution_count": 496,
   "metadata": {},
   "outputs": [],
   "source": [
    "final_data['month'] = final_data['month'].astype(np.int64)"
   ]
  },
  {
   "cell_type": "code",
   "execution_count": 497,
   "metadata": {},
   "outputs": [
    {
     "name": "stdout",
     "output_type": "stream",
     "text": [
      "<class 'pandas.core.frame.DataFrame'>\n",
      "RangeIndex: 742 entries, 0 to 741\n",
      "Data columns (total 6 columns):\n",
      "year           742 non-null object\n",
      "month          742 non-null int64\n",
      "day            742 non-null int64\n",
      "day_of_week    742 non-null object\n",
      "temp_type      742 non-null object\n",
      "values         742 non-null int64\n",
      "dtypes: int64(3), object(3)\n",
      "memory usage: 34.9+ KB\n"
     ]
    }
   ],
   "source": [
    "final_data.info()"
   ]
  },
  {
   "cell_type": "code",
   "execution_count": 498,
   "metadata": {},
   "outputs": [
    {
     "data": {
      "text/plain": [
       "0"
      ]
     },
     "execution_count": 498,
     "metadata": {},
     "output_type": "execute_result"
    }
   ],
   "source": [
    "sum(final_data.duplicated())"
   ]
  },
  {
   "cell_type": "markdown",
   "metadata": {},
   "source": [
    "### Visualize the data now!!!"
   ]
  },
  {
   "cell_type": "code",
   "execution_count": 499,
   "metadata": {},
   "outputs": [
    {
     "data": {
      "text/plain": [
       "month  temp_type\n",
       "1      max          29.702703\n",
       "       min          11.324324\n",
       "2      max          33.392857\n",
       "       min          13.642857\n",
       "3      max          35.774194\n",
       "Name: values, dtype: float64"
      ]
     },
     "execution_count": 499,
     "metadata": {},
     "output_type": "execute_result"
    }
   ],
   "source": [
    "yearly = final_data.groupby(['month', 'temp_type']).values.mean()\n",
    "yearly.head()"
   ]
  },
  {
   "cell_type": "code",
   "execution_count": 500,
   "metadata": {},
   "outputs": [
    {
     "data": {
      "image/png": "[encoded data removed]",
      "text/plain": [
       "<Figure size 720x720 with 1 Axes>"
      ]
     },
     "metadata": {},
     "output_type": "display_data"
    }
   ],
   "source": [
    "plt.title('Yearly temperature in Pune for 2017')\n",
    "plt.ylabel('Temperature')\n",
    "yearly.plot(x='month', y='values', kind='bar', figsize=(10,10));"
   ]
  },
  {
   "cell_type": "code",
   "execution_count": 501,
   "metadata": {},
   "outputs": [
    {
     "data": {
      "text/plain": [
       "day  temp_type\n",
       "1    max          39\n",
       "     min          19\n",
       "2    max          40\n",
       "     min          20\n",
       "3    max          36\n",
       "Name: values, dtype: int64"
      ]
     },
     "execution_count": 501,
     "metadata": {},
     "output_type": "execute_result"
    }
   ],
   "source": [
    "daily_May = final_data[final_data['month'] == 5].groupby(['day', 'temp_type']).values.mean()\n",
    "daily_May.head()"
   ]
  },
  {
   "cell_type": "code",
   "execution_count": 502,
   "metadata": {},
   "outputs": [
    {
     "data": {
      "image/png": "[encoded data removed]",
      "text/plain": [
       "<Figure size 1080x864 with 1 Axes>"
      ]
     },
     "metadata": {},
     "output_type": "display_data"
    }
   ],
   "source": [
    "plt.title('Daily temperature for Pune in May for 2017')\n",
    "plt.ylabel('Temperature')\n",
    "daily_May.plot(x='day', y='values', kind='bar', figsize=(15,12));"
   ]
  },
  {
   "cell_type": "code",
   "execution_count": 503,
   "metadata": {},
   "outputs": [
    {
     "data": {
      "text/plain": [
       "day  temp_type\n",
       "1    max          29.5\n",
       "     min          11.0\n",
       "2    max          30.0\n",
       "     min          11.0\n",
       "3    max          28.5\n",
       "Name: values, dtype: float64"
      ]
     },
     "execution_count": 503,
     "metadata": {},
     "output_type": "execute_result"
    }
   ],
   "source": [
    "daily_Jan = final_data[final_data['month'] == 1].groupby(['day', 'temp_type']).values.mean()\n",
    "daily_Jan.head()"
   ]
  },
  {
   "cell_type": "code",
   "execution_count": 504,
   "metadata": {},
   "outputs": [
    {
     "data": {
      "image/png": "[encoded data removed]",
      "text/plain": [
       "<Figure size 1080x864 with 1 Axes>"
      ]
     },
     "metadata": {},
     "output_type": "display_data"
    }
   ],
   "source": [
    "plt.title('Daily temperature for Pune in Jan for 2017')\n",
    "plt.ylabel('Temperature')\n",
    "daily_Jan.plot(x='day', y='values', kind='bar', figsize=(15,12));"
   ]
  },
  {
   "cell_type": "code",
   "execution_count": 505,
   "metadata": {},
   "outputs": [
    {
     "data": {
      "text/plain": [
       "day  temp_type\n",
       "1    max          29\n",
       "     min          23\n",
       "2    max          29\n",
       "     min          23\n",
       "3    max          30\n",
       "Name: values, dtype: int64"
      ]
     },
     "execution_count": 505,
     "metadata": {},
     "output_type": "execute_result"
    }
   ],
   "source": [
    "daily_July = final_data[final_data['month'] == 7].groupby(['day', 'temp_type']).values.mean()\n",
    "daily_July.head()"
   ]
  },
  {
   "cell_type": "code",
   "execution_count": 506,
   "metadata": {},
   "outputs": [
    {
     "data": {
      "image/png": "[encoded data removed]",
      "text/plain": [
       "<Figure size 1080x864 with 1 Axes>"
      ]
     },
     "metadata": {},
     "output_type": "display_data"
    }
   ],
   "source": [
    "plt.title('Daily temperature for Pune in July for 2017')\n",
    "plt.ylabel('Temperature')\n",
    "daily_July.plot(x='day', y='values', kind='bar', figsize=(15,12));"
   ]
  },
  {
   "cell_type": "markdown",
   "metadata": {},
   "source": [
    "### Insights of the data:\n",
    "\n",
    "There is not much insights, but then as global warming, and temperature rise is of utmost importance to us all over the world and in Pune, wanted to check the temperature.\n",
    "Will analyse the same over different years as well:\n",
    "But here for 2017, the datasource is from a leading weather forcasting site, I dont want to name the site here.\n",
    "Pune, part of India is a tropical city, with 3 weathers - summers, winter and monsoon.\n",
    "\n",
    "Typical summer months are from mid-March to mid-June.The monsoon lasts from June to October.For most of December and January is the coldest. So have plotted the temperatures for Jan/May/July 2017. All temperatures in deg cent.\n",
    "Jan - Max - (31 deg) Min - (6 deg) - Winter\n",
    "July - Max - (32 deg) Min - (20 deg) - Monsoon, so the temperatures tend to be low, but the night temperature dont go as low as winter. \n",
    "May - Max - (41 deg) Min - (19 deg) - Summer, it is hot, the days are long so it is hot, though the night was 19 deg Pune. The nights are usually cool in Pune due to its high altitude and away from the sea, so the humidity is also low other than in the monsoon season, when the humidity tends to increase. \n",
    "\n",
    "If you look at the yearly Max/Min temperature - April 2017 had a average max temperature in the month and Jan 2017 had the average lowest temperature in the month of the year (2017).\n"
   ]
  },
  {
   "cell_type": "code",
   "execution_count": null,
   "metadata": {},
   "outputs": [],
   "source": []
  }
 ],
 "metadata": {
  "kernelspec": {
   "display_name": "Python 3",
   "language": "python",
   "name": "python3"
  },
  "language_info": {
   "codemirror_mode": {
    "name": "ipython",
    "version": 3
   },
   "file_extension": ".py",
   "mimetype": "text/x-python",
   "name": "python",
   "nbconvert_exporter": "python",
   "pygments_lexer": "ipython3",
   "version": "3.6.5"
  }
 },
 "nbformat": 4,
 "nbformat_minor": 2
}
